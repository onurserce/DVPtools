{
 "cells": [
  {
   "attachments": {},
   "cell_type": "markdown",
   "metadata": {
    "id": "dzxs1lm6SxGK"
   },
   "source": [
    "# **DeepSlice notebook**\n",
    "this is an example notebook designed to teach you how to use DeepSlice \n",
    "\n"
   ]
  },
  {
   "cell_type": "code",
   "metadata": {
    "ExecuteTime": {
     "end_time": "2024-11-21T18:29:26.497180Z",
     "start_time": "2024-11-21T18:29:26.491297Z"
    }
   },
   "source": [
    "import os"
   ],
   "outputs": [],
   "execution_count": 1
  },
  {
   "cell_type": "code",
   "metadata": {
    "ExecuteTime": {
     "end_time": "2024-11-21T18:29:27.818644Z",
     "start_time": "2024-11-21T18:29:27.815878Z"
    }
   },
   "source": [
    "#first lets ensure we are in the DeepSlice parent directory\n",
    "# if we are in examples/example_notebooks, we need to go up two directories\n",
    "os.chdir('/home/onurserce/Data/Helmholz/241025_20241025_OS_SN43_555cFos_647NeuN_horizontal_09-48-56/fused_ch0_8bit_rotated_for_deepslice')"
   ],
   "outputs": [],
   "execution_count": 2
  },
  {
   "attachments": {},
   "cell_type": "markdown",
   "metadata": {
    "id": "SIhHUfT1RRrw"
   },
   "source": [
    "## **Import and Build the model**"
   ]
  },
  {
   "cell_type": "code",
   "metadata": {
    "id": "PqLx610CIZ3a",
    "ExecuteTime": {
     "end_time": "2024-11-21T18:29:31.173326Z",
     "start_time": "2024-11-21T18:29:29.271372Z"
    }
   },
   "source": [
    "from DeepSlice import DSModel"
   ],
   "outputs": [
    {
     "name": "stderr",
     "output_type": "stream",
     "text": [
      "2024-11-21 19:29:29.929143: E external/local_xla/xla/stream_executor/cuda/cuda_dnn.cc:9261] Unable to register cuDNN factory: Attempting to register factory for plugin cuDNN when one has already been registered\n",
      "2024-11-21 19:29:29.929180: E external/local_xla/xla/stream_executor/cuda/cuda_fft.cc:607] Unable to register cuFFT factory: Attempting to register factory for plugin cuFFT when one has already been registered\n",
      "2024-11-21 19:29:29.930626: E external/local_xla/xla/stream_executor/cuda/cuda_blas.cc:1515] Unable to register cuBLAS factory: Attempting to register factory for plugin cuBLAS when one has already been registered\n",
      "2024-11-21 19:29:29.937843: I tensorflow/core/platform/cpu_feature_guard.cc:182] This TensorFlow binary is optimized to use available CPU instructions in performance-critical operations.\n",
      "To enable the following instructions: AVX2 FMA, in other operations, rebuild TensorFlow with the appropriate compiler flags.\n",
      "2024-11-21 19:29:30.709502: W tensorflow/compiler/tf2tensorrt/utils/py_utils.cc:38] TF-TRT Warning: Could not find TensorRT\n"
     ]
    }
   ],
   "execution_count": 3
  },
  {
   "cell_type": "code",
   "metadata": {
    "colab": {
     "base_uri": "https://localhost:8080/"
    },
    "id": "MUYhpi_EIsKc",
    "outputId": "4ed363d5-e569-45b5-c35e-99cfce1eaf8f",
    "ExecuteTime": {
     "end_time": "2024-11-21T18:29:32.565229Z",
     "start_time": "2024-11-21T18:29:31.177264Z"
    }
   },
   "source": [
    "species = 'mouse' #available species are 'mouse' and 'rat'\n",
    "\n",
    "Model = DSModel(species)"
   ],
   "outputs": [
    {
     "name": "stderr",
     "output_type": "stream",
     "text": [
      "2024-11-21 19:29:31.387033: I external/local_xla/xla/stream_executor/cuda/cuda_executor.cc:901] successful NUMA node read from SysFS had negative value (-1), but there must be at least one NUMA node, so returning NUMA node zero. See more at https://github.com/torvalds/linux/blob/v6.0/Documentation/ABI/testing/sysfs-bus-pci#L344-L355\n",
      "2024-11-21 19:29:31.440255: W tensorflow/core/common_runtime/gpu/gpu_device.cc:2256] Cannot dlopen some GPU libraries. Please make sure the missing libraries mentioned above are installed properly if you would like to use GPU. Follow the guide at https://www.tensorflow.org/install/gpu for how to download and setup the required libraries for your platform.\n",
      "Skipping registering GPU devices...\n"
     ]
    }
   ],
   "execution_count": 4
  },
  {
   "cell_type": "markdown",
   "metadata": {
    "id": "IWOP83baRoL5"
   },
   "source": [
    "## **Make Predictions & Save Results**"
   ]
  },
  {
   "attachments": {},
   "cell_type": "markdown",
   "metadata": {
    "id": "eqyCkkHnSKCK"
   },
   "source": [
    "Next we point our model towards a folder which contains images we would like to align. <br> \n",
    "\n",
    "\n",
    "* ensemble uses multiple models to make predictions, test this out on your data as it is not better in all cases (though takes twice as long to run)\n",
    "\n",
    "* section numbers tells the model whether your images have section numbers in the file name, if True they should be included as _sXXX where X is the three digit section number"
   ]
  },
  {
   "metadata": {
    "ExecuteTime": {
     "end_time": "2024-11-21T18:29:36.768758Z",
     "start_time": "2024-11-21T18:29:36.409896Z"
    }
   },
   "cell_type": "code",
   "source": [
    "# sections are in reverse order, so the section numbers need to be changed\n",
    "\n",
    "import shutil\n",
    "from tqdm import tqdm\n",
    "\n",
    "folderpath = '/home/onurserce/Data/Helmholz/241025_20241025_OS_SN43_555cFos_647NeuN_horizontal_09-48-56/fused_ch0_8bit_rotated_for_deepslice'\n",
    "sections = [file for file in os.listdir(folderpath) if file.endswith('.png')]\n",
    "\n",
    "\n",
    "last_section = 7577\n",
    "reversed_folder = os.path.join(folderpath, 'reversed')\n",
    "os.makedirs(reversed_folder, exist_ok=True)\n",
    "\n",
    "for section in tqdm(sections):\n",
    "    original_name = section\n",
    "    section_number = int(original_name.split('_s')[1].split('.png')[0])\n",
    "    new_number = last_section - section_number\n",
    "    if new_number % 10 == 0:\n",
    "        new_name = 'rev_sec_s' + str(new_number) + '.png'\n",
    "        # copy the original section with the new numbering\n",
    "        src = os.path.join(folderpath, original_name)\n",
    "        dst = os.path.join(reversed_folder, new_name)\n",
    "        shutil.copyfile(src, dst)"
   ],
   "outputs": [
    {
     "name": "stderr",
     "output_type": "stream",
     "text": [
      "100%|██████████| 4801/4801 [00:00<00:00, 13901.54it/s]\n"
     ]
    }
   ],
   "execution_count": 5
  },
  {
   "cell_type": "code",
   "metadata": {
    "colab": {
     "base_uri": "https://localhost:8080/"
    },
    "id": "kokJ0Ir1LxtS",
    "outputId": "0621290b-71df-46d0-9724-e113c6d88327",
    "ExecuteTime": {
     "end_time": "2024-11-21T18:31:23.064174Z",
     "start_time": "2024-11-21T18:29:55.929404Z"
    }
   },
   "source": [
    "#this cell should take about 1 second per image\n",
    "folderpath = '/home/onurserce/Data/Helmholz/241025_20241025_OS_SN43_555cFos_647NeuN_horizontal_09-48-56/fused_ch0_8bit_rotated_for_deepslice/reversed'\n",
    "Model.predict(folderpath, ensemble=True, section_numbers=True)"
   ],
   "outputs": [
    {
     "name": "stdout",
     "output_type": "stream",
     "text": [
      "Found 480 validated image filenames.\n",
      "480/480 [==============================] - 44s 90ms/step\n",
      "480/480 [==============================] - 43s 89ms/step\n"
     ]
    }
   ],
   "execution_count": 6
  },
  {
   "attachments": {},
   "cell_type": "markdown",
   "metadata": {},
   "source": [
    "**Angle propagation**\n",
    "this tells the model to average the predicted angles (since your sections are cut from a block they should all share an angle)"
   ]
  },
  {
   "cell_type": "code",
   "metadata": {
    "ExecuteTime": {
     "end_time": "2024-11-21T18:31:23.661669Z",
     "start_time": "2024-11-21T18:31:23.067550Z"
    }
   },
   "source": [
    "Model.propagate_angles()"
   ],
   "outputs": [
    {
     "name": "stdout",
     "output_type": "stream",
     "text": [
      "DV angle: 0.03410844959385597\n",
      "ML angle: -1.1128794965658675\n",
      "DV angle: 0.03504583326875531\n",
      "ML angle: -1.1128794635737318\n"
     ]
    }
   ],
   "execution_count": 7
  },
  {
   "attachments": {},
   "cell_type": "markdown",
   "metadata": {},
   "source": [
    "<h2>Use section number information</h2>\n",
    "If you have included section numbers in your filenames we can do one of two things.<br>\n",
    "You need to know how accurate your section numbers are, if they are simply the order the sections were cut you can use<br>\n",
    "\n",
    "**Model.enforce_index_order()** <br>\n",
    "\n",
    "To reorder your sections according to their number. If your section numbers are the precise index which the sections were cut (ie; 1, 2, 4, indicates that section 3 has been left out of the series) You can use <br>\n",
    "\n",
    "**Model.enforce_index_spacing()**\n",
    "<br>\n",
    "\n",
    "If you know the exact Thickness of your sectionsin microns you can include this here as well, but don't worry, if you dont include it we will estimate and tell you our guess. <br>\n",
    "**Model.enforce_index_spacing(section_thickness = 25)**"
   ]
  },
  {
   "cell_type": "code",
   "metadata": {
    "ExecuteTime": {
     "end_time": "2024-11-21T18:32:06.115497Z",
     "start_time": "2024-11-21T18:32:06.091888Z"
    }
   },
   "source": "Model.enforce_index_order()",
   "outputs": [],
   "execution_count": 8
  },
  {
   "metadata": {
    "ExecuteTime": {
     "end_time": "2024-11-21T18:32:30.879371Z",
     "start_time": "2024-11-21T18:32:30.816157Z"
    }
   },
   "cell_type": "code",
   "source": "Model.enforce_index_spacing()",
   "outputs": [
    {
     "name": "stdout",
     "output_type": "stream",
     "text": [
      "predicted thickness is -2.4592737282224912µm\n"
     ]
    }
   ],
   "execution_count": 9
  },
  {
   "cell_type": "markdown",
   "metadata": {
    "id": "TmAKBQGPSViM"
   },
   "source": [
    "The next cell will save both a CSV file and QuickNII XML file to the current directory. If you wish to view it in quickNII simply download the xml file and brain images and place the csv in the same directory as your images."
   ]
  },
  {
   "cell_type": "code",
   "metadata": {
    "colab": {
     "base_uri": "https://localhost:8080/"
    },
    "id": "AsFBw_NzL9f9",
    "outputId": "ea7da7cf-174b-42a4-b25f-2227a20f06d2",
    "ExecuteTime": {
     "end_time": "2024-11-21T18:32:54.242790Z",
     "start_time": "2024-11-21T18:32:54.201720Z"
    }
   },
   "source": [
    "Model.save_predictions(folderpath + 'MyResults')"
   ],
   "outputs": [
    {
     "name": "stdout",
     "output_type": "stream",
     "text": [
      "480\n",
      "saving to /home/onurserce/Data/Helmholz/241025_20241025_OS_SN43_555cFos_647NeuN_horizontal_09-48-56/fused_ch0_8bit_rotated_for_deepslice/reversedMyResults.json\n"
     ]
    }
   ],
   "execution_count": 10
  },
  {
   "metadata": {},
   "cell_type": "code",
   "source": "",
   "outputs": [],
   "execution_count": null
  }
 ],
 "metadata": {
  "colab": {
   "authorship_tag": "ABX9TyOrgT3kBmK2DG+N97+KlBVW",
   "include_colab_link": true,
   "name": "DeepSlice_example.ipynb",
   "provenance": [],
   "toc_visible": true
  },
  "kernelspec": {
   "display_name": "DS-CPU",
   "language": "python",
   "name": "python3"
  },
  "language_info": {
   "codemirror_mode": {
    "name": "ipython",
    "version": 3
   },
   "file_extension": ".py",
   "mimetype": "text/x-python",
   "name": "python",
   "nbconvert_exporter": "python",
   "pygments_lexer": "ipython3",
   "version": "3.7.16"
  },
  "vscode": {
   "interpreter": {
    "hash": "bb9d081d115f30eb263a989b966b689a1df26f078f2c741c7bb85b547870c623"
   }
  }
 },
 "nbformat": 4,
 "nbformat_minor": 4
}
